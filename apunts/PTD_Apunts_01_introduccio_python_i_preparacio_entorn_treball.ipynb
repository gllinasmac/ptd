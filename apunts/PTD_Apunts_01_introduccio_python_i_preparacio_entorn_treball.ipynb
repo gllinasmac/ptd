{
  "cells": [
    {
      "cell_type": "markdown",
      "metadata": {
        "colab_type": "text",
        "id": "view-in-github"
      },
      "source": [
        "<a href=\"https://colab.research.google.com/github/gllinasmac/ptd/blob/main/apunts/PTD_Apunts_01_introduccio_python_i_preparacio_entorn_treball.ipynb\" target=\"_parent\"><img src=\"https://colab.research.google.com/assets/colab-badge.svg\" alt=\"Open In Colab\"/></a>"
      ]
    },
    {
      "cell_type": "markdown",
      "metadata": {
        "id": "dL25rWhKMU1E"
      },
      "source": [
        "# Introducció a la programació\n",
        "\n",
        "## Què és programar\n",
        "\n",
        "Una computadora està formada principalment per:\n",
        "- Processador: realitza càlculs matemàtics simples (sumar, multiplicar...) a gran velocitat\n",
        "- Memòria RAM: guarda les dades amb les que està treballant el processador. Quan s'atura la corrent es perden.\n",
        "- Perifèrics d'entrada: Introdueixen les dades\n",
        "- Perifèrics de sortida: Mostren les dades\n",
        "- Dispositius d'emmagatzemament: Guarden les dades de manera permanent. Es guarden després d'apagar la corrent\n",
        "\n",
        "Un ordinador pot desenvolupar tasques molt complexes, però en realitat l'ordinador només pot executar operacions molt simples. Per a realitzar aquestes tasques més complexes, el que fan és realitzar aquestes operacions més simples molt ràpidament.\n",
        "\n",
        "Utilitzar aquestes operacions simples per a realitzar el que nosaltres volem és programar.\n",
        "test\n",
        "\n"
      ]
    },
    {
      "cell_type": "markdown",
      "metadata": {
        "id": "OYYBalDR8PgC"
      },
      "source": [
        "##Pseudocodi\n",
        "\n",
        "Si volem sabre la velocitat mitjana d'un recorregut sabent la distància i el temps que hem tardat. Hem de **programar** l'ordinador per a què\n",
        "* Accepti un nombre pel teclat que representi la distància i el guardi a la memòria RAM\n",
        "* Accepti un altre nombre que representi el temps i el guardi a la memòria RAM\n",
        "* Divideixi el valor anterior pel segon i guardi el resultat a la memòria RAM\n",
        "* Mostri el resultat (que representarà la velocitat mitjana) a través de la pantalla.\n",
        "Aquestes 4 accions formen un **programa**\n",
        "\n",
        "Evidentment, estan en llenguatge natural i la computadora no els entendrà. Això es coneix com **pseudocodi** i es sol emprar abans de començar a programar per esbossar el funcionament general que ha de tenir el programa.\n",
        "\n",
        "La clau per a programar és traduir aquest pseudocodi a un **llenguatge** que la computadora entengui."
      ]
    },
    {
      "cell_type": "markdown",
      "metadata": {
        "id": "3ttUGhKy8Rvp"
      },
      "source": [
        "---\n",
        "\n",
        "### Activitat 1.1. Un programa amb pseudocodi\n",
        "\n",
        "\n",
        "1. *Escriu el pseudocodi d'un programa a partir de l'any de naixement calculi els anys que té.*\n",
        "1. *Inventa una situació que pugui ser resolta amb un programa i fes el pseudocodi del programa*\n",
        "\n",
        "*Per fer aquestes activitats hauràs de crear un document de text, copiar els enunciats i respondre les preguntes.*\n",
        "\n",
        "*La presentació del document ha de ser adequada.*\n",
        "\n",
        "---"
      ]
    },
    {
      "cell_type": "code",
      "execution_count": null,
      "metadata": {
        "colab": {
          "base_uri": "https://localhost:8080/"
        },
        "id": "XB8pCE1XQlZG",
        "outputId": "7a5bf7fc-bc67-4b1b-d0ac-b9809a78b607"
      },
      "outputs": [
        {
          "name": "stdout",
          "output_type": "stream",
          "text": [
            "Quin any vas néixer?1300\n",
            "L'edat que tens és: 723 anys\n"
          ]
        }
      ],
      "source": [
        "anyNaixement = int(input(\"Quin any vas néixer? \"))\n",
        "edat = 2023 - anyNaixement\n",
        "print(\"L'edat que tens és: \"+str(edat)+\" anys\")"
      ]
    },
    {
      "cell_type": "markdown",
      "metadata": {
        "id": "F_QnorVf8BvQ"
      },
      "source": [
        "\n",
        "## Llenguatge natural vs llenguatge de programació\n",
        "\n",
        "Un llenguatge és una eina per a comunicar-se. Ja que per a programar hem de comunicar a la computadora el que ha de fer, necessitam un llenguatge per a comunicar-nos amb l'ordinador.\n",
        "\n",
        "L'únic llenguatge que entén l'ordinador és el **llenguatge màquina**, que està format únicament per 1's i 0's que representen les accions bàsiques que pot realitzar:\n",
        "* sumar els nombres de les posicions de memòria 2 i 3 -> 00101011\n",
        "* guardar el nombre rebut a la posició de memòria 2 -> 10001000\n",
        "\n",
        "Aquest conjunt complet de comandes rep el nom de **llistat d'instruccions**. Aquestes instruccions reben el nom de **paraules** i tenen la particularitat que cada una d'elles té la mateixa mida (el mateix nombre de 0's i 1's), aquesta mida és coneix com una **arquitectura** del microcontrolador, i els ordinadors d'avui en dia tenen tots una arquitectura de 64 bits, la qual cosa vol dir que cada instrucció té 64 0's i 1's.\n",
        "\n",
        "Evidentment, aquest llenguatge no és manejable pels programadors, amb la qual cosa el que primer es va fer va ser traduir aquestes instruccions bàsiques formades per 0's i 1's a l'anglès:\n",
        "* sumar els nombres de les posicions de memòria 2 i 3 -> ADD 2 3\n",
        "* guardar el nombre rebut a la posició de memòria 2 -> SAVE 2\n",
        "\n",
        "Aquest nou llenguatge rep el nom de **llenguatge ensamblador** i, si bé és més entenible pels programadors, encara és de molt baix nivell i presenta el problema de què depèn del processador, és a dir, cada processador té el seu llistat d'instruccions i, per tant, els programes només funcionaran en un tipus concret de processador."
      ]
    },
    {
      "cell_type": "markdown",
      "metadata": {
        "id": "3UPZ0mhM8B_u"
      },
      "source": [
        "---\n",
        "\n",
        "### Activitat 1.2. Un programa escrit en llenguatge màquina\n",
        "\n",
        "*A la [següent presentació](https://colab.research.google.com/corgiredirector?site=https%3A%2F%2Fdocs.google.com%2Fpresentation%2Fd%2F1bXf8gxhJbwWW33megRi1YQPqhUWTjVSLFVXxS6dFS-A%2Fedit%23slide%3Did.p) s'explica el funcionament intern d'una CPU fictícia. En ella trobaràs un programa escrit en codi màquina.*\n",
        "\n",
        "*Esbrina què fa el programa i explica-ho breument*\n",
        "\n",
        "---"
      ]
    },
    {
      "cell_type": "markdown",
      "metadata": {
        "id": "hO2w9dJ28AN7"
      },
      "source": [
        "## Llenguatges de programació d'alt nivell\n",
        "\n",
        "Evidentment, a mesura que els programes anaven fent-se més complexos, no era viable programar en ensamblador i van anar sorgint els anomenats **llenguatges de programació d'alt nivell**. Aquests llenguatges utilitzen paraules de l'anglès i intenten assemblar-se al llenguatge natural.\n",
        "\n",
        "Com més propers al llenguatge natural siguin, de més alt nivell seran.\n",
        "\n",
        "Un programa escrit en un llenguatge de programació d'alt nivell s'anomena **codi font** (en contrast amb el codi màquina que hem vist). Anàlogament, l'arxiu que conté el codi font s'anomena **arxiu font**\n"
      ]
    },
    {
      "cell_type": "markdown",
      "metadata": {
        "id": "03DdeXmq9Yow"
      },
      "source": [
        "\n",
        "## Compilació vs interpretació\n",
        "\n",
        "Hem vist que el processador només entén el codi màquina, però si nosaltres escrivim amb un codi font, com ho fa l'ordinador per a entendre-ho? Doncs el programa s'ha de convertir a llenguatge màquina.\n",
        "\n",
        "Per a fer-ho hi ha dues maneres diferents de fer-ho:\n",
        "* **Compilar**: En aquest cas el programa font, un cop escrit, es tradueix i s'obté un arxiu (.exe per exemple) que conté el codi màquina. Aquest arxiu es distribueix i tothom el pot executar perquè està escrit en un llenguatge que sí entén l'ordinador (el màquina). El programa que realitza aquesta traducció s'anomena **compilador**.\n",
        "* **Interpretar**: en aquest cas, un cop escrit el programa font, no es tradueix, sinó que es distribueix tal qual i és l'usuari el que tradueix el programa font cada vegada que el vol executar. El programa que fa això s'anomena **intèrpret**, ja que interpreta el codi que es pretén executar. Aquest intèrpret anirà traduïnt a codi màquina i executant-lo línia a línia, és a dir, no ho traduïrà tot de cop i ho executarà com feia el compilador. Per raons històriques, els llenguatges interpretats s'anomenen **llenguatges de scripting** i els programes codificats amb ells es denominen **scripts**\n",
        "\n",
        "Quin tipus de llenguatge és millor? Doncs depèn, vegem els avantatges i inconvenients:\n",
        "* Avantatges\n",
        ">* Compilació\n",
        ">>* L'execució és més ràpida\n",
        ">>* L'usuari no ha de tenir el compilador, pot emprar el codi sense ell\n",
        ">>* Com que el codi es tradueix a màquina, no es pot accedir al codi font, de manera que és més difícil que algú el copiï i el robi.\n",
        ">* Interpretació\n",
        ">>* Pots executar el codi immediatament, sense haver de passar pel procés de compilació, que pot ser llarg.\n",
        ">>* Ja que el codi no es tradueix i ho fa l'intèrpret, qualsevol ordinador ho pot executar independentment del sistema operatiu.\n",
        "* Desaventatges\n",
        ">* Compilació\n",
        ">>* La compilació és un procés que, si el programa és gran, pot ser lent, i cada vegada que realitzes un canvi, per petit que sigui, s'ha de fer tota la compilació de nou.\n",
        ">>* Has de tenir un compilador per a cada plataforma de hardware on hagis d'executar el codi (una per a Windows, Linux...)\n",
        ">* Interpretació\n",
        ">>* Ja que la compilació es fa en temps d'execució, els programes són més lents.\n",
        ">>* L'usuari final ha de tenir l'intèrpret per a executar el codi.\n"
      ]
    },
    {
      "cell_type": "markdown",
      "metadata": {
        "id": "oMilyvKc8odR"
      },
      "source": [
        "---\n",
        "\n",
        "### Activitat 1.3. Classificam llenguatges en compilats i interpretats\n",
        "\n",
        "1. *Classifica els següents llenguatges de programació en interpretats i compilats, indica per a què es fan servir majoritàriament i troba un programa \"Hola mundo\" que escrigui text en pantalla per a cada un d'ells:*\n",
        ">* *Java*\n",
        ">* *C*\n",
        ">* *Python*\n",
        ">* *Javascript*\n",
        ">* *PHP*\n",
        "1. *Quin tipus de llenguatge creus que és millor per a:*\n",
        ">* *Programar una pàgina web*\n",
        ">* *Executar un programa en un satèl·lit*\n",
        ">* *Programar un videojoc*\n",
        ">* *Programar una lavadora*\n",
        ">* *Analitzar grans volums de dades*\n",
        ">* *Realitzar una aplicació de caràcter general que volem comercialitzar*\n",
        "\n",
        "*Has de posar l'enllaç a la pàgina on has trobat la informació en el primer punt i justificar els motius en el segon*"
      ]
    },
    {
      "cell_type": "code",
      "execution_count": null,
      "metadata": {
        "colab": {
          "base_uri": "https://localhost:8080/"
        },
        "id": "1x4ZWCGGzMN7",
        "outputId": "d755fdbc-60a3-488c-f1b9-f7bee47b6c86"
      },
      "outputs": [
        {
          "name": "stdout",
          "output_type": "stream",
          "text": [
            "HOla mundo\n"
          ]
        }
      ],
      "source": [
        "print(\"HOla mundo\")"
      ]
    },
    {
      "cell_type": "markdown",
      "metadata": {
        "id": "rsDwxd7ovv8b"
      },
      "source": [
        "## Microcontroladors\n",
        "\n",
        "Podem pensar que els microcontroladors com si fossin ordinadors, ja que tenen un processador i una memòria RAM, si bé es diferencien d'ells en què:\n",
        "* Tenen molta menys potència de processador i molta menys memòria RAM\n",
        "* Són molt més petits\n",
        "* No disposen de sistema operatiu\n",
        "* No s'hi sol poder connectar una pantalla, ni un teclat ni un ratolí\n",
        "* Disposen de molt poc emmagatzemament permanent.\n",
        "* Les entrades i sortides de dades es fan mitjançant sensors\n",
        "\n",
        "Hi ha moltíssims dispositius que funcionen amb microcontroladors, per exemple, una lavadora, el forn...\n",
        "\n",
        "Els llenguatges que s'utilitzen per a programar-los són llenguatges compilats(per què?) i el procediment que s'utilitza és el següent:\n",
        "1. Es crea el programa en un ordinador\n",
        "1. Es compila el programa, és a dir, es transforma a codi màquina\n",
        "1. Es carrega aquest codi màquina a la memòria permanent del microcontrolador\n",
        "1. Quan s'alimenta el microcontrolador amb energia elèctrica, aquest comença a executar el programa.\n",
        "1. Per aturar el programa, aturam aquesta alimentació. Quan es torni a alimentar, es tornarà a executar sempre el mateix codi.\n",
        "\n",
        "Si volem executar un altre programa, hem de repetir el procés i sobreescriure el programa anterior. Això significa que els microcontroladors només poden executar un programa cada cop.\n",
        "\n",
        "Per a realitzar el procés anterior, normalment s'utilitza un IDE específic i es connecta el microcontrolador a l'ordinador a través d'un cable USB.\n",
        "\n",
        "## Arduino\n",
        "\n",
        "Hi ha molts microcontroladors, si bé un de molt popular és el microcontrolador Arduino, que té la particularitat de ser hardware obert, això significa que els plànols són públics i tothom els pot veure i modificar per a crear les seves versions, inclús comercialitzar-les.\n",
        "\n",
        "Per aquest motiu, si cercam Arduino a Amazon veurem que hi ha molts de tipus diferents. Els que posen UNO són els originals i la resta són còpies, que poden ser de més o menys qualitat i que, per norma general, són més econòmiques.\n",
        "\n",
        "D'altra banda, dintre de Arduino, hi ha diferents versions que segueixen essent originals, però que han anat sorgint per adaptar-se a les diferents necessitats:\n",
        "* Arduino Mega -> Més potent i amb més entrades\n",
        "* Arduino Nano i Micro -> Més petits\n",
        "\n",
        "En el nostre projecte, treballarem amb el microcontrolador Arduino UNO original i utilitzarem Arduino IDE per a programar i carregar el programa."
      ]
    },
    {
      "cell_type": "markdown",
      "metadata": {
        "id": "6IX4JU0BvQq_"
      },
      "source": [
        "---\n",
        "\n",
        "# Activitat 1.4. Hola mundo Arduino\n",
        "\n",
        "1. *Escriu 3 aparells de casa teva que emprin microcontroladors per a funcionar*\n",
        "1. *Cerca el preu a Amazon de un Arduino Uno, un Arduino Mega i Arduino Nano originals i compara'ls amb Arduinos que siguin còpies.*\n",
        "1. *Cerca el tipus de processado, la velocitat i l'arquitectura que té el processador de Arduino UNO i digues quantes operacions pot realitzar cada segon. Compara'l amb un processador actual de PC i digues quants de cops és més potent el processador de PC que el de l'Arduino.*\n",
        ">* **NOTA 1**: tingues en compte que un processador pot tenir diferents nuclis i cada nucli és com un processador en sí, per exemple, un processador de 2 GHz amb 4 nuclis funciona a 2x4 = 8 GHz\n",
        ">* **NOTA 2**: els Hz indiquen operacions per segon, per exemple, un processador de 100 Hz vol dir que fa 100 operacions cada segon\n",
        "1. *Cerca quanta memòria té un Arduino UNO digues quantes vegades més memòria té que un ordinador de sobretaula.*\n",
        "1. *Digues el llenguatge de programació que s'empra per a programar Arduino, indicant els motius pels quals aquest llenguatge ha de ser compilat i no interpretat com Python.*\n",
        "1. *Descarrega la versió AppImage de Arduino de la pàgina oficial i configura'l per a poder-lo obrir ([instruccions](https://docs.arduino.cc/software/ide-v2/tutorials/getting-started/ide-v2-downloading-and-installing#requirements)). Guarda aquesta AppImage a l'escriptori per a poder-lo utilitar quan ho necessitis al llarg del curs*\n",
        "1. *Canvia l'idioma de l'IDE a l'espanyol*\n",
        "1. *Canvia la carpeta per defecte dels projectes d'Arduino a una que es trobi a l'escriptori específica per a PTD*\n",
        "1. *Obre l'exemple Blink que fa parpellejar el LED integrat i prova'l a la placa. En Linux sorgirà un problema de permisos ja que per defecte no podem accedir als ports USB; per a solucionar-ho s'ha d'afegir l'usuari al grup dialout [font de la solució](https://support.arduino.cc/hc/en-us/articles/360016495679-Fix-port-access-on-Linux)*\n",
        ">* `su ubtadmin` (cridar professor per posar contrasenya)\n",
        ">* `sudo usermod -a -G dialout <username>`\n",
        ">* reiniciar equip\n",
        "1. Executa el mateix codi amb la versió web de Arduino IDE amb el Chromebook\n",
        "\n",
        "---"
      ]
    },
    {
      "cell_type": "markdown",
      "metadata": {
        "id": "XHKhEJx5V3hM"
      },
      "source": [
        "# Python\n",
        "\n"
      ]
    },
    {
      "cell_type": "markdown",
      "metadata": {
        "id": "Idfrvey_9lhJ"
      },
      "source": [
        "## Què és Python?\n",
        "\n",
        "Python és un llenguatge de programació d'alt nivell, interpretat, orientat a objectes i que s'utilitza per a fer programes de propòsit general, si bé els científics l'estan emprant cada vegada més, sobretot en anàlisis de dades (Big Data)\n",
        "\n",
        "### Qui va crear Python?\n",
        "\n",
        "Al contrari que la majoria de llenguatges, que són creats per un equip de persones, Python va ser creat per una sola persona.\n",
        "\n",
        "Aquesta persona va ser Guido van Rossum, nascut el 1956 a Holanda i que ho va crear un pasatemps durant Nadal el 1989\n",
        "\n",
        "*Mi oficina (...) estaría cerrada, pero tenía una computadora en casa y no mucho más en mis manos. Decidí escribir un intérprete para el nuevo lenguaje de scripting en el que había estado pensando últimamente: un descendiente de ABC que atraería a los hackers de Unix/C. Elegí Python como el título de trabajo para el proyecto, estando en un estado de ánimo ligeramente irreverente (y un gran fanático de Monty Python's Flying Circus). Guido van Rossum*\n",
        "\n",
        "### Objectius de Python\n",
        "\n",
        "El 1999 va definir els objectius per a Python:\n",
        "* Un llenguatge **fàcil i intuïtiu** tan poderós com els seus competidors\n",
        "* De **codi obert**, per a què qualsevol pugui contribuïr al seu desenvolupament\n",
        "* El codi sigui tan **comprensible** com l'anglès\n",
        "* **Adeqüat per a tasques quotidianes**, permetent temps de desenvolupament curts.\n",
        "\n",
        "A dia d'avui Python és molt popular i ocupa el primer lloc en el [rànquing de PYPL](https://pypl.github.io/PYPL.html) de llenguatges de programació més populars\n",
        "\n",
        "### Per què Python?\n",
        "\n",
        "En realitat, per aprendre a programar, es pot emprar qualsevol llenguatge, ja que quan aprens a programar amb un, com que les bases de programació són comunes a tots els llenguatges, és molt fàcil aprendre-ne un altre.\n",
        "\n",
        "En aquest curs hem triat Python perquè:\n",
        "* És fàcil d'aprendre comparat amb altres llenguatges (com C o Java per exemple)\n",
        "* És fàcil d'ensenyar (ja que la sintaxi és més flexible i no ens hem de preocupar tant de les particularitats del llenguatge)\n",
        "* És fàcil d'utilitzar (no hi ha gaires línies de codi comparat amb altres llenguatges)\n",
        "* És fàcil d'entendre (el llenguatge s'assembla molt a l'anglès)\n",
        "* És fàcil d'obtenir, instal·lar i desplegar (és gratuït, obert i multiplataforma)\n",
        "\n"
      ]
    },
    {
      "cell_type": "markdown",
      "metadata": {
        "id": "SAPtnuRzmPEh"
      },
      "source": [
        "## Versions de Python\n",
        "\n",
        "Python és un llenguatge de programació interpretat i, per tant, s'ha d'instal·lar el seu intèrpret al nostre ordinador per a poder-se emprar.\n",
        "\n",
        "Hi ha dos tipus principals de Python, anomenades **Python 2** i **Python 3**\n",
        "\n",
        "Python 2 és una versió anterior del Python original i el seu desenvolupament està estancat. Python 3 és la versió més nova i actual del llenguatge i contínuament s'està actualitzant.\n",
        "\n",
        "Per què no ha desaparegut Python 2 si està obsoleta? Doncs perquè les dues versions no són compatibles entre elles, és a dir, un programa escrit en Python 2 no funciona amb Python 3 i viceversa, amb la qual cosa si tenim un programa amb Python 2, l'hem de passar a Python 3 si volem que segueixi funcionant.\n",
        "\n",
        "Desafortunadament, aquest procés no es pot automatitzar i s'ha de fer de forma manual, la qual cosa si el programa és gran pot ser molt complicat sino impossible.\n",
        "\n",
        "Per aquest motiu, els dos sistemes coexisteixen i la versió 2 es troba preinstal·lada a la majoria d'ordinadors, si bé nosaltres hem d'emprar la 3, la qual cosa és una mica liós ja que per al nostre ordinador Python 2 i Python 3 són dos llenguatges independents.\n",
        "\n",
        "El nom de Python 2 és `python`i el nom de Python 3 és `python3`, la qual cosa és una mica liós però s'ha de tenir en compte.\n",
        "\n",
        "Per a sabre si tenim Python instal·lat al nostre ordinador, podem obrir una terminal i escriure `python --version` i `python3 --version`"
      ]
    },
    {
      "cell_type": "markdown",
      "metadata": {
        "id": "CtT_Ba6xFAYI"
      },
      "source": [
        "---\n",
        "\n",
        "### Activitat 1.5. Esbrinar versions instal·lades\n",
        "\n",
        "*Esbrina quina versió de Python 2 tens instal·lada i esbrina si tens la darrera versió de Python al teu ordinador*\n",
        "\n",
        "*Adjunta una captura de pantalla on es vegi com ho has fet i el resultat*\n",
        "\n",
        "---"
      ]
    },
    {
      "cell_type": "markdown",
      "metadata": {
        "id": "j8cnfYA7haN8"
      },
      "source": [
        "## Actualització o instal·lació de Python\n",
        "La manera més recomanable d'instal·lar Python és des de la [pàgina oficial](https://www.python.org/) del llenguatge i descarregar-nos l'arxiu d'instal·lació.\n",
        "\n",
        "Amb Windows i macOS és simplement un executable que s'instal·la de la manera habitual, però en el cas de Linux, l'arxiu és un fitxer comprimit. Sempre que volem instal·lar alguna cosa amb Linux, el que haurem de fer és cercar les instruccions que ens solen brindar o bé a la pàgina o dintre del fitxer comprimit o bé a través de Google.\n",
        "\n",
        "En aquest cas, si descomprimim el fitxer comprimit, podrem veure que hi ha un fitxer que es diu `README` on podrem veure unes notes que si les llegim trobarem com instal·lar-ho.\n",
        "\n"
      ]
    },
    {
      "cell_type": "markdown",
      "metadata": {
        "id": "1bK4uQA6E8a0"
      },
      "source": [
        "---\n",
        "### Activitat 1.6. Actualitzar Python\n",
        "\n",
        "*Instal·la la darrera versió de Python 3 al teu ordinador.*\n",
        "\n",
        "*Has d'escriure les instruccions que has emprat i adjuntar una captura de pantalla on es vegi la darrera versió de Python 3*\n",
        "\n",
        "---"
      ]
    },
    {
      "cell_type": "markdown",
      "metadata": {
        "id": "HY7uFqEWmH4y"
      },
      "source": [
        "\n",
        "## Hola mundo\n",
        "\n",
        "Si escrivim `python3` a la terminal podem executar instruccions de Python en mode inmediat.\n",
        "\n",
        "El primer que podem fer, per exemple, és realitzar càlculs matemàtics igual que fos una calculadora. Per exemple `1+1` i obtendrem `2`\n",
        "Si escrivim `quit()` podem sortir.\n",
        "\n",
        "Una altra manera de sabre la versió des de dintre de Python és emprant les següents instruccions\n",
        "```\n",
        "import sys\n",
        "print(sys.version)\n",
        "```"
      ]
    },
    {
      "cell_type": "markdown",
      "metadata": {
        "id": "n5vXGpjcE1mC"
      },
      "source": [
        "\n",
        "---\n",
        "\n",
        "### Activitat 1.7. Python en mode directe\n",
        "\n",
        "1. *Calcula $42 \\times 65$ amb Python des de la terminal.*\n",
        "1. *Comprova que la versió que estàs emprant és la 3 i no la 2*\n",
        "1. *Surt de Python sense tancar la terminal.*\n",
        "\n",
        "*Has de mostrar una captura on es vegin les instruccions que has emprat i el resultat*"
      ]
    },
    {
      "cell_type": "markdown",
      "metadata": {
        "id": "VPYLwnJ3tfkf"
      },
      "source": [
        "## Moure'ns a través de la terminal\n",
        "\n",
        "Al llarg del curs, ens serà útil aprendre com moure'ns a través de la terminal. Per a fer-ho, ho feim a través de comandes. Aquí podem veure algunes comandes i puntualitzacions bàsiques:\n",
        "* `ls`(*list*): Per a veure els arxius i subcarpetes que hi ha al directori que ens trobam\n",
        "* `cd [nom_carpeta]` (*change directory*): Per a moure'ns a la carpeta indicada\n",
        "* **fletxes amunt i avall**: podem tornar a escriure les instruccions anteriors.\n",
        "* **tabulador**: podem autocompletar.\n",
        "* `pwd` (*print working directory*) per a veure a quina carpeta et trobes\n",
        "* `whoami` (*who I am?*): mostrar l'usuari actual\n",
        "* `clear`: Esborrar la pantalla\n",
        "* `mkdir [nomCarpeta]`: Crear una carpeta\n",
        "* `cd ..`: Tornar a la carpeta anterior\n",
        "* `touch [nomFitxer]`: Crear un fitxer\n",
        "* `nano [nomFitxer]`: Editar un fitxer (`CTRL + X` per a guardar)\n",
        "* `rm [nomFitxer]`: Esborrar un fitxer\n",
        "* `rm -r [nomCarpeta]`: Esborrar una carpeta\n",
        "* `mv [nomFitxer] [rutaCarpeta]`: Moure el fitxer a la carpeta indicada\n"
      ]
    },
    {
      "cell_type": "markdown",
      "metadata": {
        "id": "6KjHBQOWEs2k"
      },
      "source": [
        "---\n",
        "\n",
        "### Activitat 1.8. Practicam amb la terminal\n",
        "\n",
        "*Amb la terminal:*\n",
        "- *Crea una carpeta `PTD` a l'escriptor*\n",
        "- *Dintre de `PTD`, crea un fitxer `test.txt`*\n",
        "- *Escriu alguna cosa dintre del fitxer*\n",
        "- *Crea una subcarpeta `terminal` dintre de `PTD`*\n",
        "- *Mou el fitxer a la subcarpeta*\n",
        "- *Modifica el fitxer per a què tingui el teu nom d'usuari dintre*\n",
        "- *Esborra-ho tot*\n",
        "\n",
        "*Has de mostrar captures de pantalla que mostrin com ho has anat fent*\n",
        "\n",
        "---"
      ]
    },
    {
      "cell_type": "markdown",
      "metadata": {
        "id": "et9Khh0doGoy"
      },
      "source": [
        "## Scripts\n",
        "\n",
        "La manera anterior no és la més habitual, ja que només podem executar instrucció a instrucció i no és gaire pràctic.\n",
        "\n",
        "El més habitual és emprar *scripts*, que no són més que fitxers de text que acaben amb l'extensió `.py`\n",
        "\n",
        "Per a crear aquests `scripts` podem emprar qualsevol editor de text.\n",
        "\n",
        "Per executar un *script* hem d'escriure a la terminal `python3 [ruta_script]`. La ruta és la ubicació on es troba l'*script* a l'estructura de carpetes de l'ordinador. Per indicar la ruta, ho podem fer mitjançant rutes relatives o rutes absolutes:\n",
        "* **Rutes absolutes**: És la ruta desde l'arrel del sistema. S'ha de tenir en compte que:\n",
        ">* Sempre comencen per `/` (`\\` en Windows).\n",
        ">* Per a conèixer la ruta absoluta d'un script, una manera pràctica és obrir una terminal a la carpeta (clic dret) i emprar la instrucció `pwd`, que ens indicarà la ruta absoluta de la carpeta. Sabent això, tan sols haurem d'afegir el nom de l'script al final d'aquesta ruta.\n",
        "* **Rutes relatives**: És la ruta des de la carpeta on ens trobem.\n",
        ">* NO comencen per `/`\n",
        ">* Pots emprar la instrucció `ls`per a veure els arxius de la carpeta on et trobes\n",
        ">* `..` fa referència a la carpeta inmediatament inferior.\n",
        "\n"
      ]
    },
    {
      "cell_type": "markdown",
      "metadata": {
        "id": "3fiJZ8JjCSi3"
      },
      "source": [
        "## Imprimir per pantalla\n",
        "\n",
        "Per a imprimir text per pantalla, empram la funció `print()` i dintre dels parèntesis posam el text que volem entre comilles. Per exemple:\n"
      ]
    },
    {
      "cell_type": "code",
      "execution_count": null,
      "metadata": {
        "colab": {
          "base_uri": "https://localhost:8080/"
        },
        "id": "HSvXr9g4oyW0",
        "outputId": "328789b9-6df7-43b5-de6f-e4c1a4d783ad"
      },
      "outputs": [
        {
          "name": "stdout",
          "output_type": "stream",
          "text": [
            "Hola mundo\n"
          ]
        }
      ],
      "source": [
        "print(\"Hola mundo\")"
      ]
    },
    {
      "cell_type": "markdown",
      "metadata": {
        "id": "b-_9HsSUDm16"
      },
      "source": [
        "## Comentaris\n",
        "\n",
        "Un comentari és un text que l'ordinador no executarà, és a dir, que l'ignorarà com si no hi fos.\n",
        "\n",
        "Per a fer comentaris, empram `#` seguit del text que volem comentar."
      ]
    },
    {
      "cell_type": "code",
      "execution_count": null,
      "metadata": {
        "colab": {
          "base_uri": "https://localhost:8080/"
        },
        "id": "HkAV5ZpgEAyK",
        "outputId": "e1c752b9-50cc-4e73-fc5e-044397619e3a"
      },
      "outputs": [
        {
          "name": "stdout",
          "output_type": "stream",
          "text": [
            "Això NO és un comentari\n"
          ]
        }
      ],
      "source": [
        "# Això és un comentari que no s'executarà\n",
        "print(\"Això NO és un comentari\")"
      ]
    },
    {
      "cell_type": "markdown",
      "metadata": {
        "id": "L97ZPKejEGtW"
      },
      "source": [
        "---\n",
        "### Activitat 1.9. Hola mundo Python!\n",
        "\n",
        "1. *Crea a través de la terminal un script de Python que imprimeixi en pantalla el teu nom*\n",
        "1. *Executa'l emprant rutes relatives i escriu a l'script la instrucció que has emprat en un comentari. Torna a executar l'script i comprova que aquest comentari no es veu*\n",
        "1. *Torna'l a executar emprant rutes absolutes i escriu a l'script la instrucció que has emprat en un comentari*\n",
        "\n",
        "*Has de mostrar captures de pantalla del resultat*\n",
        "\n",
        "---"
      ]
    },
    {
      "cell_type": "markdown",
      "metadata": {
        "id": "Rxd5Zp3sN9Tk"
      },
      "source": [
        "# Preparació de l'entorn de treball"
      ]
    },
    {
      "cell_type": "markdown",
      "metadata": {
        "id": "a2uhhOSsFvYn"
      },
      "source": [
        "## Entorns de desenvolupament integrats (IDE)\n",
        "\n",
        "Així hi tot, el més habitual és emprar Entorns de Desenvolupament Integrats o IDE, per les sigles en anglès (*Integrated Development Environment*).\n",
        "\n",
        "Aquests editors, et faciliten bastant la vida ja que, entre altres coses:\n",
        "- El col·loregen el codi perquè sigui més fàcil de llegir\n",
        "- T'autocompleten les instruccions i les variables\n",
        "- Et mostren la documentació del llenguatge\n",
        "- Formategen el codi perquè sigui més fàcil de llegir\n",
        "- Executen els programes sense haver de fer-ho a través de la terminal.\n",
        "\n",
        "Hi ha moltíssims IDE que podem emprar i utilitzar-ne un o altra depèn més que res de la preferència del programador.\n",
        "\n",
        "Un que està molt bé és **Visual Studio Code** i serà el que emprarem en aquest curs.\n",
        "\n",
        "Aquest editor permet instal·lar extensions per a poder emprar ben bé qualsevol llenguatge."
      ]
    },
    {
      "cell_type": "markdown",
      "metadata": {
        "id": "pwW2MRAyHKVW"
      },
      "source": [
        "## Jupyter Notebooks\n",
        "\n",
        "Més enllà dels IDE, hi ha una eina que va una passa més enllà per a facilitar-nos la vida programant que són els Jupyter Notebooks.\n",
        "\n",
        "Aquests quaderns tenen la particularitat de:\n",
        "- Permeten introduir blocs de text formatejats amb un editor\n",
        "- Podem afegir blocs de codi independents dintre d'un mateix quadern. Al contrari que als scripts, que s'han d'executar tots de cop, aquí podem anar executant algunes línies de codi i no totes.\n",
        "\n",
        "Igual que empram l'extensió `.py`per indicar que es tracta d'un script de Python. Per a indicar els Jupyter Notebooks emprarem l'extensió `.ipynb`, de manera que si veim un fitxer acabat amb aquesta extensió sabrem que és un Jupyter Notebook.\n",
        "\n",
        "Quan desenvolupam un projecte gran, no es solen emprar els quaderns, però per a projectes i programes senzills són molt pràctics.\n",
        "\n",
        "Podem emprar els Jupyter Notebooks dintre de Visual Studio Code si instal·lam les extensions pertinents:\n",
        "- Jupyter\n",
        "- Jupyter Cell Tags\n",
        "- Jupyter Keymap\n",
        "- Jupyter Notebook Renders\n",
        "- Jupyter Slide Show\n"
      ]
    },
    {
      "cell_type": "markdown",
      "metadata": {
        "id": "jmrfMwsaIQbi"
      },
      "source": [
        "## Google Colaboratory\n",
        "\n",
        "Com has vist fins ara, configurar un IDE per a un llenguatge pot portar una mica de feina.\n",
        "\n",
        "A més, estam fent feina en local, la qual cosa significa que només podem treballar a l'ordinador que estam i els programes només es troben al nostre ordinador.\n",
        "\n",
        "Si volem treballar a un altre ordinador, hauríem de configurar-lo de nou i transferir els fitxers de qualque manera. Més endavant, veurem Github solucionarà el problema dels fitxers, però així hi tot, sempre haurem de configurar un IDE quan vulguem treballar en un altre equip. (Per això quasi tots els programadors van amb el seu portàtil!)\n",
        "\n",
        "Una solució recent que està prenent molta popularitat és [Google Colaboratory](https://colab.research.google.com/?hl=es). Es tracta d'una pàgina web de Google que permet executar Jupyter Notebook directament al navegador, sense haver de configurar res ja que el codi s'executa als servidors de Google.\n",
        "\n",
        "A la pràctica, els IDE són molt més potents i ràpids que aquesta pàgina i per això, per a projectes una mica complexos, val més la pena emprar un IDE. Ara bé, per a realitzar petites proves o si volem treballar en un equip que no és el nostre, ens pot treure de més d'un apur.\n",
        "\n",
        "També té l'avantatge que els notebooks es guarden directament al drive (no ens hem de preocupar de passar-los a un altre ordinador) i que podem compartir els quaderns amb altres comptes (permetent treballar col·laborativament)."
      ]
    },
    {
      "cell_type": "markdown",
      "metadata": {
        "id": "b56KlUvRGmJK"
      },
      "source": [
        "---\n",
        "### Activitat 1.10. Instal·lam VSCode\n",
        "\n",
        "1. *Instal·la la darrera versió de Visual Studio Code al teu ordinador*\n",
        ">* Per a fer-ho, has de descarregar el fitxer .deb de la pàgina oficial de VSCode.\n",
        ">* A continuació has d'executar la següent instrucció: `sudo dpkg -i <ruta_absoluta_al_fitxer.deb>`\n",
        "1. *Instal·la les extensions de Python, Pylance i Black Formatter per a poder programar amb Python amb aquest editor*\n",
        "1. *Executa un script qualsevol directament amb l'IDE*\n",
        "1. *Entra a Visual Studio i crea un script amb un programa que imprimeixi en pantalla la següent forma:*\n",
        "```\n",
        "1\n",
        "2 3\n",
        "4 5 6\n",
        "7 8 9 10\n",
        "```\n",
        "\n",
        "---"
      ]
    }
  ],
  "metadata": {
    "colab": {
      "authorship_tag": "ABX9TyNl6Ybn0WAQTXLUH8b/qD31",
      "include_colab_link": true,
      "provenance": []
    },
    "kernelspec": {
      "display_name": "Python 3",
      "name": "python3"
    },
    "language_info": {
      "name": "python"
    }
  },
  "nbformat": 4,
  "nbformat_minor": 0
}
